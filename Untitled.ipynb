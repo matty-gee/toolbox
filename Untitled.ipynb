{
 "cells": [
  {
   "cell_type": "code",
   "execution_count": 2,
   "id": "907fcd7c-36a7-4092-9dbb-aee0dc11df07",
   "metadata": {},
   "outputs": [
    {
     "name": "stdout",
     "output_type": "stream",
     "text": [
      "Collecting git+https://github.com/matty-gee/toolbox.git\n",
      "  Cloning https://github.com/matty-gee/toolbox.git to /private/var/folders/jq/pk75wqp554g5dhplx1d3m91h0000gw/T/pip-req-build-qwiccvdl\n",
      "  Running command git clone --filter=blob:none --quiet https://github.com/matty-gee/toolbox.git /private/var/folders/jq/pk75wqp554g5dhplx1d3m91h0000gw/T/pip-req-build-qwiccvdl\n",
      "  Resolved https://github.com/matty-gee/toolbox.git to commit 2c845775360703dda62d06886f859eb059452457\n",
      "  Preparing metadata (setup.py) ... \u001b[?25ldone\n",
      "\u001b[?25hCollecting astropy\n",
      "  Using cached astropy-5.1-cp38-cp38-macosx_10_9_x86_64.whl (6.9 MB)\n",
      "Collecting factor_analyzer\n",
      "  Using cached factor_analyzer-0.4.1.tar.gz (41 kB)\n",
      "  Installing build dependencies ... \u001b[?25ldone\n",
      "\u001b[?25h  Getting requirements to build wheel ... \u001b[?25ldone\n",
      "\u001b[?25h  Preparing metadata (pyproject.toml) ... \u001b[?25ldone\n",
      "\u001b[?25hCollecting matplotlib\n",
      "  Using cached matplotlib-3.6.1-cp38-cp38-macosx_10_12_x86_64.whl (7.3 MB)\n",
      "\u001b[31mERROR: Could not find a version that satisfies the requirement mpich (from toolbox) (from versions: none)\u001b[0m\u001b[31m\n",
      "\u001b[0m\u001b[31mERROR: No matching distribution found for mpich\u001b[0m\u001b[31m\n",
      "\u001b[0m"
     ]
    }
   ],
   "source": [
    "! pip install git+https://github.com/matty-gee/toolbox.git \n"
   ]
  },
  {
   "cell_type": "code",
   "execution_count": null,
   "id": "0fdb126e-3931-4658-9764-813f0a62e10e",
   "metadata": {},
   "outputs": [],
   "source": []
  }
 ],
 "metadata": {
  "kernelspec": {
   "display_name": "toolbox",
   "language": "python",
   "name": "toolbox"
  },
  "language_info": {
   "codemirror_mode": {
    "name": "ipython",
    "version": 3
   },
   "file_extension": ".py",
   "mimetype": "text/x-python",
   "name": "python",
   "nbconvert_exporter": "python",
   "pygments_lexer": "ipython3",
   "version": "3.8.0"
  }
 },
 "nbformat": 4,
 "nbformat_minor": 5
}
