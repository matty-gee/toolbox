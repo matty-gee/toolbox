{
 "cells": [
  {
   "cell_type": "code",
   "execution_count": 4,
   "id": "907fcd7c-36a7-4092-9dbb-aee0dc11df07",
   "metadata": {
    "tags": []
   },
   "outputs": [
    {
     "name": "stdout",
     "output_type": "stream",
     "text": [
      "Collecting git+https://github.com/matty-gee/toolbox.git\n",
      "  Cloning https://github.com/matty-gee/toolbox.git to /private/var/folders/jq/pk75wqp554g5dhplx1d3m91h0000gw/T/pip-req-build-k0gr7p_7\n",
      "  Running command git clone --filter=blob:none --quiet https://github.com/matty-gee/toolbox.git /private/var/folders/jq/pk75wqp554g5dhplx1d3m91h0000gw/T/pip-req-build-k0gr7p_7\n",
      "  Resolved https://github.com/matty-gee/toolbox.git to commit f50a34e9c5f0a994d25419dac3c3a9fe786c97c6\n",
      "  Preparing metadata (setup.py) ... \u001b[?25ldone\n",
      "\u001b[?25hCollecting astropy\n",
      "  Using cached astropy-5.1-cp38-cp38-macosx_10_9_x86_64.whl (6.9 MB)\n",
      "Collecting factor_analyzer\n",
      "  Using cached factor_analyzer-0.4.1.tar.gz (41 kB)\n",
      "  Installing build dependencies ... \u001b[?25ldone\n",
      "\u001b[?25h  Getting requirements to build wheel ... \u001b[?25ldone\n",
      "\u001b[?25h  Preparing metadata (pyproject.toml) ... \u001b[?25ldone\n",
      "\u001b[?25hCollecting matplotlib\n",
      "  Using cached matplotlib-3.6.1-cp38-cp38-macosx_10_12_x86_64.whl (7.3 MB)\n",
      "Collecting networkx\n",
      "  Using cached networkx-2.8.7-py3-none-any.whl (2.0 MB)\n",
      "Collecting nibabel\n",
      "  Using cached nibabel-4.0.2-py3-none-any.whl (3.3 MB)\n",
      "Requirement already satisfied: nose in /Users/matthew/opt/anaconda3/envs/toolbox/lib/python3.8/site-packages (from toolbox==0.0.6) (1.3.7)\n",
      "Requirement already satisfied: numpy in /Users/matthew/opt/anaconda3/envs/toolbox/lib/python3.8/site-packages (from toolbox==0.0.6) (1.23.1)\n",
      "Requirement already satisfied: pandas in /Users/matthew/opt/anaconda3/envs/toolbox/lib/python3.8/site-packages (from toolbox==0.0.6) (1.4.4)\n",
      "Collecting patsy\n",
      "  Using cached patsy-0.5.3-py2.py3-none-any.whl (233 kB)\n",
      "Collecting prince\n",
      "  Using cached prince-0.7.1-py3-none-any.whl (21 kB)\n",
      "Requirement already satisfied: pycircstat in /Users/matthew/opt/anaconda3/envs/toolbox/lib/python3.8/site-packages (from toolbox==0.0.6) (0.0.2)\n",
      "Requirement already satisfied: scikit_learn in /Users/matthew/opt/anaconda3/envs/toolbox/lib/python3.8/site-packages (from toolbox==0.0.6) (1.0.2)\n",
      "Requirement already satisfied: scipy in /Users/matthew/opt/anaconda3/envs/toolbox/lib/python3.8/site-packages (from toolbox==0.0.6) (1.7.1)\n",
      "Collecting seaborn\n",
      "  Using cached seaborn-0.12.0-py3-none-any.whl (285 kB)\n",
      "Requirement already satisfied: setuptools in /Users/matthew/opt/anaconda3/envs/toolbox/lib/python3.8/site-packages (from toolbox==0.0.6) (63.4.1)\n",
      "Collecting Shapely\n",
      "  Downloading Shapely-1.8.5.post1-cp38-cp38-macosx_10_9_x86_64.whl (1.2 MB)\n",
      "\u001b[2K     \u001b[90m━━━━━━━━━━━━━━━━━━━━━━━━━━━━━━━━━━━━━━━━\u001b[0m \u001b[32m1.2/1.2 MB\u001b[0m \u001b[31m10.4 MB/s\u001b[0m eta \u001b[36m0:00:00\u001b[0m00:01\u001b[0m\n",
      "\u001b[?25hCollecting shapesimilarity\n",
      "  Using cached shapesimilarity-0.0.1-py3-none-any.whl (6.6 kB)\n",
      "Requirement already satisfied: six in /Users/matthew/opt/anaconda3/envs/toolbox/lib/python3.8/site-packages (from toolbox==0.0.6) (1.16.0)\n",
      "Collecting statsmodels\n",
      "  Downloading statsmodels-0.13.2-cp38-cp38-macosx_10_9_x86_64.whl (9.6 MB)\n",
      "\u001b[2K     \u001b[90m━━━━━━━━━━━━━━━━━━━━━━━━━━━━━━━━━━━━━━━━\u001b[0m \u001b[32m9.6/9.6 MB\u001b[0m \u001b[31m18.8 MB/s\u001b[0m eta \u001b[36m0:00:00\u001b[0m00:01\u001b[0m00:01\u001b[0m\n",
      "\u001b[?25hCollecting torch\n",
      "  Downloading torch-1.12.1-cp38-none-macosx_10_9_x86_64.whl (137.8 MB)\n",
      "\u001b[2K     \u001b[90m━━━━━━━━━━━━━━━━━━━━━━━━━━━━━━━━━━━━━━━\u001b[0m \u001b[32m137.8/137.8 MB\u001b[0m \u001b[31m2.2 MB/s\u001b[0m eta \u001b[36m0:00:00\u001b[0m00:01\u001b[0m00:01\u001b[0m\n",
      "\u001b[?25hCollecting xlsx2csv\n",
      "  Using cached xlsx2csv-0.8.0-py3-none-any.whl (13 kB)\n",
      "Collecting pyerfa>=2.0\n",
      "  Downloading pyerfa-2.0.0.1-cp38-cp38-macosx_10_9_x86_64.whl (343 kB)\n",
      "\u001b[2K     \u001b[90m━━━━━━━━━━━━━━━━━━━━━━━━━━━━━━━━━━━━━━━\u001b[0m \u001b[32m343.6/343.6 kB\u001b[0m \u001b[31m6.3 MB/s\u001b[0m eta \u001b[36m0:00:00\u001b[0m00:01\u001b[0m\n",
      "\u001b[?25hCollecting PyYAML>=3.13\n",
      "  Downloading PyYAML-6.0-cp38-cp38-macosx_10_9_x86_64.whl (192 kB)\n",
      "\u001b[2K     \u001b[90m━━━━━━━━━━━━━━━━━━━━━━━━━━━━━━━━━━━━━━━\u001b[0m \u001b[32m192.2/192.2 kB\u001b[0m \u001b[31m2.5 MB/s\u001b[0m eta \u001b[36m0:00:00\u001b[0ma \u001b[36m0:00:01\u001b[0m\n",
      "\u001b[?25hRequirement already satisfied: packaging>=19.0 in /Users/matthew/opt/anaconda3/envs/toolbox/lib/python3.8/site-packages (from astropy->toolbox==0.0.6) (21.3)\n",
      "Collecting pre-commit\n",
      "  Using cached pre_commit-2.20.0-py2.py3-none-any.whl (199 kB)\n",
      "Collecting fonttools>=4.22.0\n",
      "  Using cached fonttools-4.37.4-py3-none-any.whl (960 kB)\n",
      "Requirement already satisfied: python-dateutil>=2.7 in /Users/matthew/opt/anaconda3/envs/toolbox/lib/python3.8/site-packages (from matplotlib->toolbox==0.0.6) (2.8.2)\n",
      "Collecting contourpy>=1.0.1\n",
      "  Downloading contourpy-1.0.5-cp38-cp38-macosx_10_9_x86_64.whl (241 kB)\n",
      "\u001b[2K     \u001b[90m━━━━━━━━━━━━━━━━━━━━━━━━━━━━━━━━━━━━━━━\u001b[0m \u001b[32m241.2/241.2 kB\u001b[0m \u001b[31m3.4 MB/s\u001b[0m eta \u001b[36m0:00:00\u001b[0m00:01\u001b[0m\n",
      "\u001b[?25hCollecting kiwisolver>=1.0.1\n",
      "  Downloading kiwisolver-1.4.4-cp38-cp38-macosx_10_9_x86_64.whl (65 kB)\n",
      "\u001b[2K     \u001b[90m━━━━━━━━━━━━━━━━━━━━━━━━━━━━━━━━━━━━━━━━\u001b[0m \u001b[32m65.4/65.4 kB\u001b[0m \u001b[31m1.4 MB/s\u001b[0m eta \u001b[36m0:00:00\u001b[0mta \u001b[36m0:00:01\u001b[0m\n",
      "\u001b[?25hCollecting pillow>=6.2.0\n",
      "  Downloading Pillow-9.2.0-cp38-cp38-macosx_10_10_x86_64.whl (3.1 MB)\n",
      "\u001b[2K     \u001b[90m━━━━━━━━━━━━━━━━━━━━━━━━━━━━━━━━━━━━━━━━\u001b[0m \u001b[32m3.1/3.1 MB\u001b[0m \u001b[31m15.4 MB/s\u001b[0m eta \u001b[36m0:00:00\u001b[0m00:01\u001b[0m00:01\u001b[0m\n",
      "\u001b[?25hCollecting cycler>=0.10\n",
      "  Using cached cycler-0.11.0-py3-none-any.whl (6.4 kB)\n",
      "Requirement already satisfied: pyparsing>=2.2.1 in /Users/matthew/opt/anaconda3/envs/toolbox/lib/python3.8/site-packages (from matplotlib->toolbox==0.0.6) (3.0.9)\n",
      "Requirement already satisfied: pytz>=2020.1 in /Users/matthew/opt/anaconda3/envs/toolbox/lib/python3.8/site-packages (from pandas->toolbox==0.0.6) (2022.1)\n",
      "Requirement already satisfied: threadpoolctl>=2.0.0 in /Users/matthew/opt/anaconda3/envs/toolbox/lib/python3.8/site-packages (from scikit_learn->toolbox==0.0.6) (2.2.0)\n",
      "Requirement already satisfied: joblib>=0.11 in /Users/matthew/opt/anaconda3/envs/toolbox/lib/python3.8/site-packages (from scikit_learn->toolbox==0.0.6) (1.1.0)\n",
      "Collecting numpy\n",
      "  Downloading numpy-1.22.4.zip (11.5 MB)\n",
      "\u001b[2K     \u001b[90m━━━━━━━━━━━━━━━━━━━━━━━━━━━━━━━━━━━━━━━━\u001b[0m \u001b[32m11.5/11.5 MB\u001b[0m \u001b[31m19.5 MB/s\u001b[0m eta \u001b[36m0:00:00\u001b[0m00:01\u001b[0m00:01\u001b[0m\n",
      "\u001b[?25h  Installing build dependencies ... \u001b[?25ldone\n",
      "\u001b[?25h  Getting requirements to build wheel ... \u001b[?25ldone\n",
      "\u001b[?25h  Preparing metadata (pyproject.toml) ... \u001b[?25ldone\n",
      "\u001b[?25hRequirement already satisfied: typing-extensions in /Users/matthew/opt/anaconda3/envs/toolbox/lib/python3.8/site-packages (from torch->toolbox==0.0.6) (4.3.0)\n",
      "Collecting virtualenv>=20.0.8\n",
      "  Using cached virtualenv-20.16.5-py3-none-any.whl (8.8 MB)\n",
      "Requirement already satisfied: toml in /Users/matthew/opt/anaconda3/envs/toolbox/lib/python3.8/site-packages (from pre-commit->factor_analyzer->toolbox==0.0.6) (0.10.2)\n",
      "Collecting cfgv>=2.0.0\n",
      "  Using cached cfgv-3.3.1-py2.py3-none-any.whl (7.3 kB)\n",
      "Collecting identify>=1.0.0\n",
      "  Using cached identify-2.5.6-py2.py3-none-any.whl (98 kB)\n",
      "Collecting nodeenv>=0.11.1\n",
      "  Using cached nodeenv-1.7.0-py2.py3-none-any.whl (21 kB)\n",
      "Collecting platformdirs<3,>=2.4\n",
      "  Using cached platformdirs-2.5.2-py3-none-any.whl (14 kB)\n",
      "Collecting filelock<4,>=3.4.1\n",
      "  Using cached filelock-3.8.0-py3-none-any.whl (10 kB)\n",
      "Collecting distlib<1,>=0.3.5\n",
      "  Using cached distlib-0.3.6-py2.py3-none-any.whl (468 kB)\n",
      "Building wheels for collected packages: toolbox, factor_analyzer, numpy\n",
      "  Building wheel for toolbox (setup.py) ... \u001b[?25ldone\n",
      "\u001b[?25h  Created wheel for toolbox: filename=toolbox-0.0.6-py3-none-any.whl size=57646 sha256=1dec850c3e24dd8e9f20c2c5c14c042e49f528d2141ddfdd3563e55a32851a05\n",
      "  Stored in directory: /private/var/folders/jq/pk75wqp554g5dhplx1d3m91h0000gw/T/pip-ephem-wheel-cache-num3sg8o/wheels/a3/fc/81/6df04c2220422aaf7aa63d4a91c7ae9201bd14e98c55e41c49\n",
      "  Building wheel for factor_analyzer (pyproject.toml) ... \u001b[?25ldone\n",
      "\u001b[?25h  Created wheel for factor_analyzer: filename=factor_analyzer-0.4.1-py2.py3-none-any.whl size=42015 sha256=3c6ca150c0effd284c5caa022896f69c699339fea58986406d3e7e53247c292c\n",
      "  Stored in directory: /Users/matthew/Library/Caches/pip/wheels/f5/8f/2e/a689c21bc4bf04f84ceebf4b1f5846cacc04bfe179e7ad5ab0\n",
      "  Building wheel for numpy (pyproject.toml) ... \u001b[?25ldone\n",
      "\u001b[?25h  Created wheel for numpy: filename=numpy-1.22.4-cp38-cp38-macosx_10_12_x86_64.whl size=5824020 sha256=d454e5a6c2c1bd68ab64b93b0c212911484433b385fe361e02547cde69cc93dd\n",
      "  Stored in directory: /Users/matthew/Library/Caches/pip/wheels/c7/6c/43/ceeebf0411159c5857528fad0d636e0f380c017605f12c4b54\n",
      "Successfully built toolbox factor_analyzer numpy\n",
      "Installing collected packages: xlsx2csv, shapesimilarity, distlib, torch, Shapely, PyYAML, platformdirs, pillow, numpy, nodeenv, networkx, kiwisolver, identify, fonttools, filelock, cycler, cfgv, virtualenv, pyerfa, patsy, nibabel, contourpy, statsmodels, pre-commit, matplotlib, astropy, seaborn, prince, factor_analyzer, toolbox\n",
      "  Attempting uninstall: numpy\n",
      "    Found existing installation: numpy 1.23.1\n",
      "    Uninstalling numpy-1.23.1:\n",
      "      Successfully uninstalled numpy-1.23.1\n",
      "\u001b[31mERROR: pip's dependency resolver does not currently take into account all the packages that are installed. This behaviour is the source of the following dependency conflicts.\n",
      "daal4py 2021.6.0 requires daal==2021.4.0, which is not installed.\u001b[0m\u001b[31m\n",
      "\u001b[0mSuccessfully installed PyYAML-6.0 Shapely-1.8.5.post1 astropy-5.1 cfgv-3.3.1 contourpy-1.0.5 cycler-0.11.0 distlib-0.3.6 factor_analyzer-0.4.1 filelock-3.8.0 fonttools-4.37.4 identify-2.5.6 kiwisolver-1.4.4 matplotlib-3.6.1 networkx-2.8.7 nibabel-4.0.2 nodeenv-1.7.0 numpy-1.22.4 patsy-0.5.3 pillow-9.2.0 platformdirs-2.5.2 pre-commit-2.20.0 prince-0.7.1 pyerfa-2.0.0.1 seaborn-0.12.0 shapesimilarity-0.0.1 statsmodels-0.13.2 toolbox-0.0.6 torch-1.12.1 virtualenv-20.16.5 xlsx2csv-0.8.0\n"
     ]
    }
   ],
   "source": [
    "! pip install git+https://github.com/matty-gee/toolbox.git \n"
   ]
  },
  {
   "cell_type": "code",
   "execution_count": 5,
   "id": "0fdb126e-3931-4658-9764-813f0a62e10e",
   "metadata": {},
   "outputs": [
    {
     "ename": "ModuleNotFoundError",
     "evalue": "No module named 'circ_stats'",
     "output_type": "error",
     "traceback": [
      "\u001b[0;31m---------------------------------------------------------------------------\u001b[0m",
      "\u001b[0;31mModuleNotFoundError\u001b[0m                       Traceback (most recent call last)",
      "Input \u001b[0;32mIn [5]\u001b[0m, in \u001b[0;36m<cell line: 1>\u001b[0;34m()\u001b[0m\n\u001b[0;32m----> 1\u001b[0m \u001b[38;5;28;01mimport\u001b[39;00m \u001b[38;5;21;01mtoolbox\u001b[39;00m\n",
      "File \u001b[0;32m~/Dropbox/Projects/_DEV/toolbox/toolbox/__init__.py:4\u001b[0m, in \u001b[0;36m<module>\u001b[0;34m\u001b[0m\n\u001b[1;32m      2\u001b[0m \u001b[38;5;28;01mfrom\u001b[39;00m \u001b[38;5;21;01m.\u001b[39;00m\u001b[38;5;21;01mcirc_stats\u001b[39;00m \u001b[38;5;28;01mimport\u001b[39;00m \u001b[38;5;241m*\u001b[39m\n\u001b[1;32m      3\u001b[0m \u001b[38;5;28;01mfrom\u001b[39;00m \u001b[38;5;21;01m.\u001b[39;00m\u001b[38;5;21;01mclassification\u001b[39;00m \u001b[38;5;28;01mimport\u001b[39;00m \u001b[38;5;241m*\u001b[39m\n\u001b[0;32m----> 4\u001b[0m \u001b[38;5;28;01mfrom\u001b[39;00m \u001b[38;5;21;01m.\u001b[39;00m\u001b[38;5;21;01mcorrelation\u001b[39;00m \u001b[38;5;28;01mimport\u001b[39;00m \u001b[38;5;241m*\u001b[39m\n\u001b[1;32m      5\u001b[0m \u001b[38;5;28;01mfrom\u001b[39;00m \u001b[38;5;21;01m.\u001b[39;00m\u001b[38;5;21;01mdim_reduction\u001b[39;00m \u001b[38;5;28;01mimport\u001b[39;00m \u001b[38;5;241m*\u001b[39m\n\u001b[1;32m      6\u001b[0m \u001b[38;5;28;01mfrom\u001b[39;00m \u001b[38;5;21;01m.\u001b[39;00m\u001b[38;5;21;01mfeature_selection\u001b[39;00m \u001b[38;5;28;01mimport\u001b[39;00m \u001b[38;5;241m*\u001b[39m\n",
      "File \u001b[0;32m~/Dropbox/Projects/_DEV/toolbox/toolbox/correlation.py:8\u001b[0m, in \u001b[0;36m<module>\u001b[0;34m\u001b[0m\n\u001b[1;32m      5\u001b[0m \u001b[38;5;28;01mimport\u001b[39;00m \u001b[38;5;21;01mmatplotlib\u001b[39;00m\u001b[38;5;21;01m.\u001b[39;00m\u001b[38;5;21;01mpyplot\u001b[39;00m \u001b[38;5;28;01mas\u001b[39;00m \u001b[38;5;21;01mplt\u001b[39;00m\n\u001b[1;32m      6\u001b[0m \u001b[38;5;28;01mimport\u001b[39;00m \u001b[38;5;21;01mseaborn\u001b[39;00m \u001b[38;5;28;01mas\u001b[39;00m \u001b[38;5;21;01msns\u001b[39;00m\n\u001b[0;32m----> 8\u001b[0m \u001b[38;5;28;01mfrom\u001b[39;00m \u001b[38;5;21;01mcirc_stats\u001b[39;00m \u001b[38;5;28;01mimport\u001b[39;00m circ_corrcl, circ_corrcc\n\u001b[1;32m     10\u001b[0m \u001b[38;5;66;03m# symmetrical correlation matrices\u001b[39;00m\n\u001b[1;32m     11\u001b[0m \u001b[38;5;28;01mdef\u001b[39;00m \u001b[38;5;21mcorr_mat\u001b[39m(df):\n",
      "\u001b[0;31mModuleNotFoundError\u001b[0m: No module named 'circ_stats'"
     ]
    }
   ],
   "source": [
    "import toolbox"
   ]
  },
  {
   "cell_type": "code",
   "execution_count": 7,
   "id": "b512908b-f0ac-4c04-b48c-eee83179d85c",
   "metadata": {},
   "outputs": [
    {
     "data": {
      "text/plain": [
       "0.5"
      ]
     },
     "execution_count": 7,
     "metadata": {},
     "output_type": "execute_result"
    }
   ],
   "source": [
    "import scipy\n",
    "scipy.stats.f.sf(1, 2, 5-3)"
   ]
  },
  {
   "cell_type": "code",
   "execution_count": null,
   "id": "0ecb6dfe-c08a-466d-9270-803d93f9638d",
   "metadata": {},
   "outputs": [],
   "source": []
  }
 ],
 "metadata": {
  "kernelspec": {
   "display_name": "toolbox",
   "language": "python",
   "name": "toolbox"
  },
  "language_info": {
   "codemirror_mode": {
    "name": "ipython",
    "version": 3
   },
   "file_extension": ".py",
   "mimetype": "text/x-python",
   "name": "python",
   "nbconvert_exporter": "python",
   "pygments_lexer": "ipython3",
   "version": "3.8.0"
  }
 },
 "nbformat": 4,
 "nbformat_minor": 5
}
