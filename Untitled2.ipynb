{
 "cells": [
  {
   "cell_type": "code",
   "execution_count": 1,
   "id": "259bcca4-353b-413c-b69f-40ea400f4580",
   "metadata": {},
   "outputs": [
    {
     "name": "stdout",
     "output_type": "stream",
     "text": [
      "Collecting git+https://github.com/matty-gee/toolbox.git\n",
      "  Cloning https://github.com/matty-gee/toolbox.git to /private/var/folders/jq/pk75wqp554g5dhplx1d3m91h0000gw/T/pip-req-build-3t8uh_2g\n",
      "  Running command git clone --filter=blob:none --quiet https://github.com/matty-gee/toolbox.git /private/var/folders/jq/pk75wqp554g5dhplx1d3m91h0000gw/T/pip-req-build-3t8uh_2g\n",
      "  Resolved https://github.com/matty-gee/toolbox.git to commit 4247ccae0612c79aafac78ad4f3c9d2cacde5653\n",
      "  Preparing metadata (setup.py) ... \u001b[?25ldone\n",
      "\u001b[?25hRequirement already satisfied: astropy in /Users/matthew/opt/anaconda3/envs/toolbox/lib/python3.8/site-packages (from toolbox==0.0.9) (5.1)\n",
      "Requirement already satisfied: factor_analyzer in /Users/matthew/opt/anaconda3/envs/toolbox/lib/python3.8/site-packages (from toolbox==0.0.9) (0.4.1)\n",
      "Requirement already satisfied: matplotlib in /Users/matthew/opt/anaconda3/envs/toolbox/lib/python3.8/site-packages (from toolbox==0.0.9) (3.6.1)\n",
      "Requirement already satisfied: networkx in /Users/matthew/opt/anaconda3/envs/toolbox/lib/python3.8/site-packages (from toolbox==0.0.9) (2.8.7)\n",
      "Requirement already satisfied: nilearn in /Users/matthew/opt/anaconda3/envs/toolbox/lib/python3.8/site-packages (from toolbox==0.0.9) (0.9.2)\n",
      "Requirement already satisfied: nibabel in /Users/matthew/opt/anaconda3/envs/toolbox/lib/python3.8/site-packages (from toolbox==0.0.9) (4.0.2)\n",
      "Requirement already satisfied: nose in /Users/matthew/opt/anaconda3/envs/toolbox/lib/python3.8/site-packages (from toolbox==0.0.9) (1.3.7)\n",
      "Requirement already satisfied: numpy in /Users/matthew/opt/anaconda3/envs/toolbox/lib/python3.8/site-packages (from toolbox==0.0.9) (1.22.4)\n",
      "Requirement already satisfied: pandas in /Users/matthew/opt/anaconda3/envs/toolbox/lib/python3.8/site-packages (from toolbox==0.0.9) (1.4.4)\n",
      "Requirement already satisfied: patsy in /Users/matthew/opt/anaconda3/envs/toolbox/lib/python3.8/site-packages (from toolbox==0.0.9) (0.5.3)\n",
      "Requirement already satisfied: prince in /Users/matthew/opt/anaconda3/envs/toolbox/lib/python3.8/site-packages (from toolbox==0.0.9) (0.7.1)\n",
      "Requirement already satisfied: pycircstat in /Users/matthew/opt/anaconda3/envs/toolbox/lib/python3.8/site-packages (from toolbox==0.0.9) (0.0.2)\n",
      "Requirement already satisfied: scikit_learn in /Users/matthew/opt/anaconda3/envs/toolbox/lib/python3.8/site-packages (from toolbox==0.0.9) (1.0.2)\n",
      "Requirement already satisfied: scipy in /Users/matthew/opt/anaconda3/envs/toolbox/lib/python3.8/site-packages (from toolbox==0.0.9) (1.7.1)\n",
      "Requirement already satisfied: seaborn in /Users/matthew/opt/anaconda3/envs/toolbox/lib/python3.8/site-packages (from toolbox==0.0.9) (0.12.0)\n",
      "Requirement already satisfied: setuptools in /Users/matthew/opt/anaconda3/envs/toolbox/lib/python3.8/site-packages (from toolbox==0.0.9) (63.4.1)\n",
      "Requirement already satisfied: Shapely in /Users/matthew/opt/anaconda3/envs/toolbox/lib/python3.8/site-packages (from toolbox==0.0.9) (1.8.5.post1)\n",
      "Requirement already satisfied: shapesimilarity in /Users/matthew/opt/anaconda3/envs/toolbox/lib/python3.8/site-packages (from toolbox==0.0.9) (0.0.1)\n",
      "Requirement already satisfied: six in /Users/matthew/opt/anaconda3/envs/toolbox/lib/python3.8/site-packages (from toolbox==0.0.9) (1.16.0)\n",
      "Requirement already satisfied: statsmodels in /Users/matthew/opt/anaconda3/envs/toolbox/lib/python3.8/site-packages (from toolbox==0.0.9) (0.13.2)\n",
      "Requirement already satisfied: torch in /Users/matthew/opt/anaconda3/envs/toolbox/lib/python3.8/site-packages (from toolbox==0.0.9) (1.12.1)\n",
      "Requirement already satisfied: xlsx2csv in /Users/matthew/opt/anaconda3/envs/toolbox/lib/python3.8/site-packages (from toolbox==0.0.9) (0.8.0)\n",
      "Requirement already satisfied: packaging>=19.0 in /Users/matthew/opt/anaconda3/envs/toolbox/lib/python3.8/site-packages (from astropy->toolbox==0.0.9) (21.3)\n",
      "Requirement already satisfied: PyYAML>=3.13 in /Users/matthew/opt/anaconda3/envs/toolbox/lib/python3.8/site-packages (from astropy->toolbox==0.0.9) (6.0)\n",
      "Requirement already satisfied: pyerfa>=2.0 in /Users/matthew/opt/anaconda3/envs/toolbox/lib/python3.8/site-packages (from astropy->toolbox==0.0.9) (2.0.0.1)\n",
      "Requirement already satisfied: pre-commit in /Users/matthew/opt/anaconda3/envs/toolbox/lib/python3.8/site-packages (from factor_analyzer->toolbox==0.0.9) (2.20.0)\n",
      "Requirement already satisfied: contourpy>=1.0.1 in /Users/matthew/opt/anaconda3/envs/toolbox/lib/python3.8/site-packages (from matplotlib->toolbox==0.0.9) (1.0.5)\n",
      "Requirement already satisfied: python-dateutil>=2.7 in /Users/matthew/opt/anaconda3/envs/toolbox/lib/python3.8/site-packages (from matplotlib->toolbox==0.0.9) (2.8.2)\n",
      "Requirement already satisfied: pillow>=6.2.0 in /Users/matthew/opt/anaconda3/envs/toolbox/lib/python3.8/site-packages (from matplotlib->toolbox==0.0.9) (9.2.0)\n",
      "Requirement already satisfied: fonttools>=4.22.0 in /Users/matthew/opt/anaconda3/envs/toolbox/lib/python3.8/site-packages (from matplotlib->toolbox==0.0.9) (4.37.4)\n",
      "Requirement already satisfied: pyparsing>=2.2.1 in /Users/matthew/opt/anaconda3/envs/toolbox/lib/python3.8/site-packages (from matplotlib->toolbox==0.0.9) (3.0.9)\n",
      "Requirement already satisfied: kiwisolver>=1.0.1 in /Users/matthew/opt/anaconda3/envs/toolbox/lib/python3.8/site-packages (from matplotlib->toolbox==0.0.9) (1.4.4)\n",
      "Requirement already satisfied: cycler>=0.10 in /Users/matthew/opt/anaconda3/envs/toolbox/lib/python3.8/site-packages (from matplotlib->toolbox==0.0.9) (0.11.0)\n",
      "Requirement already satisfied: requests>=2 in /Users/matthew/opt/anaconda3/envs/toolbox/lib/python3.8/site-packages (from nilearn->toolbox==0.0.9) (2.28.1)\n",
      "Requirement already satisfied: joblib>=0.15 in /Users/matthew/opt/anaconda3/envs/toolbox/lib/python3.8/site-packages (from nilearn->toolbox==0.0.9) (1.1.0)\n",
      "Requirement already satisfied: lxml in /Users/matthew/opt/anaconda3/envs/toolbox/lib/python3.8/site-packages (from nilearn->toolbox==0.0.9) (4.9.1)\n",
      "Requirement already satisfied: pytz>=2020.1 in /Users/matthew/opt/anaconda3/envs/toolbox/lib/python3.8/site-packages (from pandas->toolbox==0.0.9) (2022.1)\n",
      "Requirement already satisfied: threadpoolctl>=2.0.0 in /Users/matthew/opt/anaconda3/envs/toolbox/lib/python3.8/site-packages (from scikit_learn->toolbox==0.0.9) (2.2.0)\n",
      "Requirement already satisfied: typing-extensions in /Users/matthew/opt/anaconda3/envs/toolbox/lib/python3.8/site-packages (from torch->toolbox==0.0.9) (4.3.0)\n",
      "Requirement already satisfied: idna<4,>=2.5 in /Users/matthew/opt/anaconda3/envs/toolbox/lib/python3.8/site-packages (from requests>=2->nilearn->toolbox==0.0.9) (3.3)\n",
      "Requirement already satisfied: charset-normalizer<3,>=2 in /Users/matthew/opt/anaconda3/envs/toolbox/lib/python3.8/site-packages (from requests>=2->nilearn->toolbox==0.0.9) (2.0.4)\n",
      "Requirement already satisfied: urllib3<1.27,>=1.21.1 in /Users/matthew/opt/anaconda3/envs/toolbox/lib/python3.8/site-packages (from requests>=2->nilearn->toolbox==0.0.9) (1.25.8)\n",
      "Requirement already satisfied: certifi>=2017.4.17 in /Users/matthew/opt/anaconda3/envs/toolbox/lib/python3.8/site-packages (from requests>=2->nilearn->toolbox==0.0.9) (2022.9.24)\n",
      "Requirement already satisfied: nodeenv>=0.11.1 in /Users/matthew/opt/anaconda3/envs/toolbox/lib/python3.8/site-packages (from pre-commit->factor_analyzer->toolbox==0.0.9) (1.7.0)\n",
      "Requirement already satisfied: toml in /Users/matthew/opt/anaconda3/envs/toolbox/lib/python3.8/site-packages (from pre-commit->factor_analyzer->toolbox==0.0.9) (0.10.2)\n",
      "Requirement already satisfied: virtualenv>=20.0.8 in /Users/matthew/opt/anaconda3/envs/toolbox/lib/python3.8/site-packages (from pre-commit->factor_analyzer->toolbox==0.0.9) (20.16.5)\n",
      "Requirement already satisfied: identify>=1.0.0 in /Users/matthew/opt/anaconda3/envs/toolbox/lib/python3.8/site-packages (from pre-commit->factor_analyzer->toolbox==0.0.9) (2.5.6)\n",
      "Requirement already satisfied: cfgv>=2.0.0 in /Users/matthew/opt/anaconda3/envs/toolbox/lib/python3.8/site-packages (from pre-commit->factor_analyzer->toolbox==0.0.9) (3.3.1)\n",
      "Requirement already satisfied: filelock<4,>=3.4.1 in /Users/matthew/opt/anaconda3/envs/toolbox/lib/python3.8/site-packages (from virtualenv>=20.0.8->pre-commit->factor_analyzer->toolbox==0.0.9) (3.8.0)\n",
      "Requirement already satisfied: distlib<1,>=0.3.5 in /Users/matthew/opt/anaconda3/envs/toolbox/lib/python3.8/site-packages (from virtualenv>=20.0.8->pre-commit->factor_analyzer->toolbox==0.0.9) (0.3.6)\n",
      "Requirement already satisfied: platformdirs<3,>=2.4 in /Users/matthew/opt/anaconda3/envs/toolbox/lib/python3.8/site-packages (from virtualenv>=20.0.8->pre-commit->factor_analyzer->toolbox==0.0.9) (2.5.2)\n",
      "Building wheels for collected packages: toolbox\n",
      "  Building wheel for toolbox (setup.py) ... \u001b[?25ldone\n",
      "\u001b[?25h  Created wheel for toolbox: filename=toolbox-0.0.9-py3-none-any.whl size=48964 sha256=8e1a9fcf397f1963c9d2b29fe9f8c1bae1308e37cfc6a56d2b34782c382057eb\n",
      "  Stored in directory: /private/var/folders/jq/pk75wqp554g5dhplx1d3m91h0000gw/T/pip-ephem-wheel-cache-vn49ycd2/wheels/a3/fc/81/6df04c2220422aaf7aa63d4a91c7ae9201bd14e98c55e41c49\n",
      "Successfully built toolbox\n",
      "Installing collected packages: toolbox\n",
      "  Attempting uninstall: toolbox\n",
      "    Found existing installation: toolbox 0.0.8\n",
      "    Uninstalling toolbox-0.0.8:\n",
      "      Successfully uninstalled toolbox-0.0.8\n",
      "Successfully installed toolbox-0.0.9\n"
     ]
    }
   ],
   "source": [
    "! pip install --upgrade git+https://github.com/matty-gee/toolbox.git \n"
   ]
  },
  {
   "cell_type": "code",
   "execution_count": 2,
   "id": "a484068a-1b41-47ac-8b9d-0982030ddc95",
   "metadata": {},
   "outputs": [
    {
     "ename": "NameError",
     "evalue": "name 'pd' is not defined",
     "output_type": "error",
     "traceback": [
      "\u001b[0;31m---------------------------------------------------------------------------\u001b[0m",
      "\u001b[0;31mNameError\u001b[0m                                 Traceback (most recent call last)",
      "Input \u001b[0;32mIn [2]\u001b[0m, in \u001b[0;36m<cell line: 1>\u001b[0;34m()\u001b[0m\n\u001b[0;32m----> 1\u001b[0m \u001b[38;5;28;01mimport\u001b[39;00m \u001b[38;5;21;01mtoolbox\u001b[39;00m\n",
      "File \u001b[0;32m~/Dropbox/Projects/_DEV/toolbox/toolbox/__init__.py:6\u001b[0m, in \u001b[0;36m<module>\u001b[0;34m\u001b[0m\n\u001b[1;32m      4\u001b[0m \u001b[38;5;28;01mfrom\u001b[39;00m \u001b[38;5;21;01m.\u001b[39;00m\u001b[38;5;21;01mdim_reduction\u001b[39;00m \u001b[38;5;28;01mimport\u001b[39;00m \u001b[38;5;241m*\u001b[39m\n\u001b[1;32m      5\u001b[0m \u001b[38;5;28;01mfrom\u001b[39;00m \u001b[38;5;21;01m.\u001b[39;00m\u001b[38;5;21;01mfunc_conn\u001b[39;00m \u001b[38;5;28;01mimport\u001b[39;00m \u001b[38;5;241m*\u001b[39m\n\u001b[0;32m----> 6\u001b[0m \u001b[38;5;28;01mfrom\u001b[39;00m \u001b[38;5;21;01m.\u001b[39;00m\u001b[38;5;21;01mio\u001b[39;00m \u001b[38;5;28;01mimport\u001b[39;00m \u001b[38;5;241m*\u001b[39m\n\u001b[1;32m      7\u001b[0m \u001b[38;5;28;01mfrom\u001b[39;00m \u001b[38;5;21;01m.\u001b[39;00m\u001b[38;5;21;01mmasking\u001b[39;00m \u001b[38;5;28;01mimport\u001b[39;00m \u001b[38;5;241m*\u001b[39m\n\u001b[1;32m      8\u001b[0m \u001b[38;5;28;01mfrom\u001b[39;00m \u001b[38;5;21;01m.\u001b[39;00m\u001b[38;5;21;01mmatrices\u001b[39;00m \u001b[38;5;28;01mimport\u001b[39;00m \u001b[38;5;241m*\u001b[39m\n",
      "File \u001b[0;32m~/Dropbox/Projects/_DEV/toolbox/toolbox/io.py:38\u001b[0m, in \u001b[0;36m<module>\u001b[0;34m\u001b[0m\n\u001b[1;32m     34\u001b[0m             \u001b[38;5;28;01mreturn\u001b[39;00m obj\u001b[38;5;241m.\u001b[39mto_json()\n\u001b[1;32m     35\u001b[0m         \u001b[38;5;28;01mreturn\u001b[39;00m JSONEncoder\u001b[38;5;241m.\u001b[39mdefault(\u001b[38;5;28mself\u001b[39m, obj)\n\u001b[0;32m---> 38\u001b[0m \u001b[38;5;28;01mdef\u001b[39;00m \u001b[38;5;21mread_excel\u001b[39m(path: \u001b[38;5;28mstr\u001b[39m, sheet_name\u001b[38;5;241m=\u001b[39m\u001b[38;5;241m0\u001b[39m, index_col\u001b[38;5;241m=\u001b[39m\u001b[38;5;28;01mNone\u001b[39;00m) \u001b[38;5;241m-\u001b[39m\u001b[38;5;241m>\u001b[39m \u001b[43mpd\u001b[49m\u001b[38;5;241m.\u001b[39mDataFrame:\n\u001b[1;32m     39\u001b[0m     \u001b[38;5;124;03m'''\u001b[39;00m\n\u001b[1;32m     40\u001b[0m \u001b[38;5;124;03m        Turn excel into csv in memory to speed up reading (~50% speedup)\u001b[39;00m\n\u001b[1;32m     41\u001b[0m \u001b[38;5;124;03m    '''\u001b[39;00m\n\u001b[1;32m     42\u001b[0m      \u001b[38;5;66;03m# inside here so only is loaded if needed (not all machines can install this package apparently..)\u001b[39;00m\n",
      "\u001b[0;31mNameError\u001b[0m: name 'pd' is not defined"
     ]
    }
   ],
   "source": [
    "import toolbox"
   ]
  },
  {
   "cell_type": "code",
   "execution_count": null,
   "id": "4d74d7a9-548a-4e9c-a194-bd3fc15abb05",
   "metadata": {},
   "outputs": [],
   "source": []
  }
 ],
 "metadata": {
  "kernelspec": {
   "display_name": "toolbox",
   "language": "python",
   "name": "toolbox"
  },
  "language_info": {
   "codemirror_mode": {
    "name": "ipython",
    "version": 3
   },
   "file_extension": ".py",
   "mimetype": "text/x-python",
   "name": "python",
   "nbconvert_exporter": "python",
   "pygments_lexer": "ipython3",
   "version": "3.8.0"
  }
 },
 "nbformat": 4,
 "nbformat_minor": 5
}
