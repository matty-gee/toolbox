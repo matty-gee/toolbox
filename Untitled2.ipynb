{
 "cells": [
  {
   "cell_type": "code",
   "execution_count": 1,
   "id": "259bcca4-353b-413c-b69f-40ea400f4580",
   "metadata": {
    "collapsed": true,
    "jupyter": {
     "outputs_hidden": true
    },
    "tags": []
   },
   "outputs": [
    {
     "name": "stdout",
     "output_type": "stream",
     "text": [
      "Collecting git+https://github.com/matty-gee/toolbox.git\n",
      "  Cloning https://github.com/matty-gee/toolbox.git to /private/var/folders/jq/pk75wqp554g5dhplx1d3m91h0000gw/T/pip-req-build-kbt0qlh6\n",
      "  Running command git clone --filter=blob:none --quiet https://github.com/matty-gee/toolbox.git /private/var/folders/jq/pk75wqp554g5dhplx1d3m91h0000gw/T/pip-req-build-kbt0qlh6\n",
      "  Resolved https://github.com/matty-gee/toolbox.git to commit f59a0d0cb524e826ee571940fa31d1cfc4733b83\n",
      "  Preparing metadata (setup.py) ... \u001b[?25ldone\n",
      "\u001b[?25hRequirement already satisfied: astropy in /Users/matthew/opt/anaconda3/envs/toolbox/lib/python3.8/site-packages (from toolbox==0.0.11) (5.1)\n",
      "Requirement already satisfied: factor_analyzer in /Users/matthew/opt/anaconda3/envs/toolbox/lib/python3.8/site-packages (from toolbox==0.0.11) (0.4.1)\n",
      "Requirement already satisfied: matplotlib in /Users/matthew/opt/anaconda3/envs/toolbox/lib/python3.8/site-packages (from toolbox==0.0.11) (3.6.1)\n",
      "Requirement already satisfied: networkx in /Users/matthew/opt/anaconda3/envs/toolbox/lib/python3.8/site-packages (from toolbox==0.0.11) (2.8.7)\n",
      "Requirement already satisfied: nilearn in /Users/matthew/opt/anaconda3/envs/toolbox/lib/python3.8/site-packages (from toolbox==0.0.11) (0.9.2)\n",
      "Requirement already satisfied: nibabel in /Users/matthew/opt/anaconda3/envs/toolbox/lib/python3.8/site-packages (from toolbox==0.0.11) (4.0.2)\n",
      "Requirement already satisfied: nose in /Users/matthew/opt/anaconda3/envs/toolbox/lib/python3.8/site-packages (from toolbox==0.0.11) (1.3.7)\n",
      "Requirement already satisfied: numpy in /Users/matthew/opt/anaconda3/envs/toolbox/lib/python3.8/site-packages (from toolbox==0.0.11) (1.22.4)\n",
      "Requirement already satisfied: pandas in /Users/matthew/opt/anaconda3/envs/toolbox/lib/python3.8/site-packages (from toolbox==0.0.11) (1.4.4)\n",
      "Requirement already satisfied: patsy in /Users/matthew/opt/anaconda3/envs/toolbox/lib/python3.8/site-packages (from toolbox==0.0.11) (0.5.3)\n",
      "Requirement already satisfied: prince in /Users/matthew/opt/anaconda3/envs/toolbox/lib/python3.8/site-packages (from toolbox==0.0.11) (0.7.1)\n",
      "Requirement already satisfied: pycircstat in /Users/matthew/opt/anaconda3/envs/toolbox/lib/python3.8/site-packages (from toolbox==0.0.11) (0.0.2)\n",
      "Requirement already satisfied: scikit_learn in /Users/matthew/opt/anaconda3/envs/toolbox/lib/python3.8/site-packages (from toolbox==0.0.11) (1.0.2)\n",
      "Requirement already satisfied: scipy in /Users/matthew/opt/anaconda3/envs/toolbox/lib/python3.8/site-packages (from toolbox==0.0.11) (1.7.1)\n",
      "Requirement already satisfied: seaborn in /Users/matthew/opt/anaconda3/envs/toolbox/lib/python3.8/site-packages (from toolbox==0.0.11) (0.12.0)\n",
      "Requirement already satisfied: setuptools in /Users/matthew/opt/anaconda3/envs/toolbox/lib/python3.8/site-packages (from toolbox==0.0.11) (63.4.1)\n",
      "Requirement already satisfied: Shapely in /Users/matthew/opt/anaconda3/envs/toolbox/lib/python3.8/site-packages (from toolbox==0.0.11) (1.8.5.post1)\n",
      "Requirement already satisfied: shapesimilarity in /Users/matthew/opt/anaconda3/envs/toolbox/lib/python3.8/site-packages (from toolbox==0.0.11) (0.0.1)\n",
      "Requirement already satisfied: six in /Users/matthew/opt/anaconda3/envs/toolbox/lib/python3.8/site-packages (from toolbox==0.0.11) (1.16.0)\n",
      "Requirement already satisfied: statsmodels in /Users/matthew/opt/anaconda3/envs/toolbox/lib/python3.8/site-packages (from toolbox==0.0.11) (0.13.2)\n",
      "Requirement already satisfied: torch in /Users/matthew/opt/anaconda3/envs/toolbox/lib/python3.8/site-packages (from toolbox==0.0.11) (1.12.1)\n",
      "Requirement already satisfied: xlsx2csv in /Users/matthew/opt/anaconda3/envs/toolbox/lib/python3.8/site-packages (from toolbox==0.0.11) (0.8.0)\n",
      "Requirement already satisfied: PyYAML>=3.13 in /Users/matthew/opt/anaconda3/envs/toolbox/lib/python3.8/site-packages (from astropy->toolbox==0.0.11) (6.0)\n",
      "Requirement already satisfied: packaging>=19.0 in /Users/matthew/opt/anaconda3/envs/toolbox/lib/python3.8/site-packages (from astropy->toolbox==0.0.11) (21.3)\n",
      "Requirement already satisfied: pyerfa>=2.0 in /Users/matthew/opt/anaconda3/envs/toolbox/lib/python3.8/site-packages (from astropy->toolbox==0.0.11) (2.0.0.1)\n",
      "Requirement already satisfied: pre-commit in /Users/matthew/opt/anaconda3/envs/toolbox/lib/python3.8/site-packages (from factor_analyzer->toolbox==0.0.11) (2.20.0)\n",
      "Requirement already satisfied: pillow>=6.2.0 in /Users/matthew/opt/anaconda3/envs/toolbox/lib/python3.8/site-packages (from matplotlib->toolbox==0.0.11) (9.2.0)\n",
      "Requirement already satisfied: cycler>=0.10 in /Users/matthew/opt/anaconda3/envs/toolbox/lib/python3.8/site-packages (from matplotlib->toolbox==0.0.11) (0.11.0)\n",
      "Requirement already satisfied: python-dateutil>=2.7 in /Users/matthew/opt/anaconda3/envs/toolbox/lib/python3.8/site-packages (from matplotlib->toolbox==0.0.11) (2.8.2)\n",
      "Requirement already satisfied: kiwisolver>=1.0.1 in /Users/matthew/opt/anaconda3/envs/toolbox/lib/python3.8/site-packages (from matplotlib->toolbox==0.0.11) (1.4.4)\n",
      "Requirement already satisfied: contourpy>=1.0.1 in /Users/matthew/opt/anaconda3/envs/toolbox/lib/python3.8/site-packages (from matplotlib->toolbox==0.0.11) (1.0.5)\n",
      "Requirement already satisfied: pyparsing>=2.2.1 in /Users/matthew/opt/anaconda3/envs/toolbox/lib/python3.8/site-packages (from matplotlib->toolbox==0.0.11) (3.0.9)\n",
      "Requirement already satisfied: fonttools>=4.22.0 in /Users/matthew/opt/anaconda3/envs/toolbox/lib/python3.8/site-packages (from matplotlib->toolbox==0.0.11) (4.37.4)\n",
      "Requirement already satisfied: requests>=2 in /Users/matthew/opt/anaconda3/envs/toolbox/lib/python3.8/site-packages (from nilearn->toolbox==0.0.11) (2.28.1)\n",
      "Requirement already satisfied: joblib>=0.15 in /Users/matthew/opt/anaconda3/envs/toolbox/lib/python3.8/site-packages (from nilearn->toolbox==0.0.11) (1.1.0)\n",
      "Requirement already satisfied: lxml in /Users/matthew/opt/anaconda3/envs/toolbox/lib/python3.8/site-packages (from nilearn->toolbox==0.0.11) (4.9.1)\n",
      "Requirement already satisfied: pytz>=2020.1 in /Users/matthew/opt/anaconda3/envs/toolbox/lib/python3.8/site-packages (from pandas->toolbox==0.0.11) (2022.1)\n",
      "Requirement already satisfied: threadpoolctl>=2.0.0 in /Users/matthew/opt/anaconda3/envs/toolbox/lib/python3.8/site-packages (from scikit_learn->toolbox==0.0.11) (2.2.0)\n",
      "Requirement already satisfied: typing-extensions in /Users/matthew/opt/anaconda3/envs/toolbox/lib/python3.8/site-packages (from torch->toolbox==0.0.11) (4.3.0)\n",
      "Requirement already satisfied: certifi>=2017.4.17 in /Users/matthew/opt/anaconda3/envs/toolbox/lib/python3.8/site-packages (from requests>=2->nilearn->toolbox==0.0.11) (2022.9.24)\n",
      "Requirement already satisfied: urllib3<1.27,>=1.21.1 in /Users/matthew/opt/anaconda3/envs/toolbox/lib/python3.8/site-packages (from requests>=2->nilearn->toolbox==0.0.11) (1.25.8)\n",
      "Requirement already satisfied: idna<4,>=2.5 in /Users/matthew/opt/anaconda3/envs/toolbox/lib/python3.8/site-packages (from requests>=2->nilearn->toolbox==0.0.11) (3.3)\n",
      "Requirement already satisfied: charset-normalizer<3,>=2 in /Users/matthew/opt/anaconda3/envs/toolbox/lib/python3.8/site-packages (from requests>=2->nilearn->toolbox==0.0.11) (2.0.4)\n",
      "Requirement already satisfied: identify>=1.0.0 in /Users/matthew/opt/anaconda3/envs/toolbox/lib/python3.8/site-packages (from pre-commit->factor_analyzer->toolbox==0.0.11) (2.5.6)\n",
      "Requirement already satisfied: cfgv>=2.0.0 in /Users/matthew/opt/anaconda3/envs/toolbox/lib/python3.8/site-packages (from pre-commit->factor_analyzer->toolbox==0.0.11) (3.3.1)\n",
      "Requirement already satisfied: nodeenv>=0.11.1 in /Users/matthew/opt/anaconda3/envs/toolbox/lib/python3.8/site-packages (from pre-commit->factor_analyzer->toolbox==0.0.11) (1.7.0)\n",
      "Requirement already satisfied: virtualenv>=20.0.8 in /Users/matthew/opt/anaconda3/envs/toolbox/lib/python3.8/site-packages (from pre-commit->factor_analyzer->toolbox==0.0.11) (20.16.5)\n",
      "Requirement already satisfied: toml in /Users/matthew/opt/anaconda3/envs/toolbox/lib/python3.8/site-packages (from pre-commit->factor_analyzer->toolbox==0.0.11) (0.10.2)\n",
      "Requirement already satisfied: filelock<4,>=3.4.1 in /Users/matthew/opt/anaconda3/envs/toolbox/lib/python3.8/site-packages (from virtualenv>=20.0.8->pre-commit->factor_analyzer->toolbox==0.0.11) (3.8.0)\n",
      "Requirement already satisfied: platformdirs<3,>=2.4 in /Users/matthew/opt/anaconda3/envs/toolbox/lib/python3.8/site-packages (from virtualenv>=20.0.8->pre-commit->factor_analyzer->toolbox==0.0.11) (2.5.2)\n",
      "Requirement already satisfied: distlib<1,>=0.3.5 in /Users/matthew/opt/anaconda3/envs/toolbox/lib/python3.8/site-packages (from virtualenv>=20.0.8->pre-commit->factor_analyzer->toolbox==0.0.11) (0.3.6)\n",
      "Building wheels for collected packages: toolbox\n",
      "  Building wheel for toolbox (setup.py) ... \u001b[?25ldone\n",
      "\u001b[?25h  Created wheel for toolbox: filename=toolbox-0.0.11-py3-none-any.whl size=48972 sha256=c1438cb1f30fc0e6f577ad98c079fd55ccac5dc26c2032f9974c61f76584c24a\n",
      "  Stored in directory: /private/var/folders/jq/pk75wqp554g5dhplx1d3m91h0000gw/T/pip-ephem-wheel-cache-l2bzklke/wheels/a3/fc/81/6df04c2220422aaf7aa63d4a91c7ae9201bd14e98c55e41c49\n",
      "Successfully built toolbox\n",
      "Installing collected packages: toolbox\n",
      "  Attempting uninstall: toolbox\n",
      "    Found existing installation: toolbox 0.0.10\n",
      "    Uninstalling toolbox-0.0.10:\n",
      "      Successfully uninstalled toolbox-0.0.10\n",
      "Successfully installed toolbox-0.0.11\n"
     ]
    }
   ],
   "source": [
    "! pip install --upgrade git+https://github.com/matty-gee/toolbox.git \n"
   ]
  },
  {
   "cell_type": "code",
   "execution_count": 2,
   "id": "a484068a-1b41-47ac-8b9d-0982030ddc95",
   "metadata": {},
   "outputs": [
    {
     "name": "stderr",
     "output_type": "stream",
     "text": [
      "/Users/matthew/opt/anaconda3/envs/toolbox/lib/python3.8/site-packages/nilearn/input_data/__init__.py:27: FutureWarning: The import path 'nilearn.input_data' is deprecated in version 0.9. Importing from 'nilearn.input_data' will be possible at least until release 0.13.0. Please import from 'nilearn.maskers' instead.\n",
      "  warnings.warn(message, FutureWarning)\n"
     ]
    }
   ],
   "source": [
    "import toolbox"
   ]
  },
  {
   "cell_type": "code",
   "execution_count": 4,
   "id": "4d74d7a9-548a-4e9c-a194-bd3fc15abb05",
   "metadata": {},
   "outputs": [
    {
     "data": {
      "text/plain": [
       "<function toolbox.circ_stats.angle_between_vectors(u, v, direction=None, verbose=False)>"
      ]
     },
     "execution_count": 4,
     "metadata": {},
     "output_type": "execute_result"
    }
   ],
   "source": [
    "toolbox.angle_between_vectors"
   ]
  },
  {
   "cell_type": "code",
   "execution_count": null,
   "id": "fcf42fa9-601a-4121-be88-8fe232bfd71c",
   "metadata": {},
   "outputs": [],
   "source": []
  }
 ],
 "metadata": {
  "kernelspec": {
   "display_name": "toolbox",
   "language": "python",
   "name": "toolbox"
  },
  "language_info": {
   "codemirror_mode": {
    "name": "ipython",
    "version": 3
   },
   "file_extension": ".py",
   "mimetype": "text/x-python",
   "name": "python",
   "nbconvert_exporter": "python",
   "pygments_lexer": "ipython3",
   "version": "3.8.0"
  }
 },
 "nbformat": 4,
 "nbformat_minor": 5
}
